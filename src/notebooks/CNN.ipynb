{
 "cells": [
  {
   "cell_type": "code",
   "execution_count": 1,
   "metadata": {},
   "outputs": [],
   "source": [
    "import torch.nn as nn\n",
    "import torch.nn.functional as F\n",
    "import matplotlib.pyplot as plt\n",
    "import numpy as np\n",
    "import pandas as pd\n",
    "import torch.optim as optim\n",
    "from torch.autograd import Variable\n",
    "import torch\n",
    "from tqdm import tqdm\n",
    "import sys"
   ]
  },
  {
   "cell_type": "code",
   "execution_count": 2,
   "metadata": {},
   "outputs": [],
   "source": [
    "from torch.utils.tensorboard import SummaryWriter"
   ]
  },
  {
   "cell_type": "code",
   "execution_count": 3,
   "metadata": {},
   "outputs": [],
   "source": [
    "sys.path.insert(0,'..')\n",
    "import bitmap\n",
    "import itertools\n",
    "from forward_prediction import forward_model"
   ]
  },
  {
   "cell_type": "markdown",
   "metadata": {},
   "source": [
    "# Generate data"
   ]
  },
  {
   "cell_type": "markdown",
   "metadata": {},
   "source": [
    "## Training data"
   ]
  },
  {
   "cell_type": "code",
   "execution_count": 4,
   "metadata": {},
   "outputs": [],
   "source": [
    "regenerate_data = False"
   ]
  },
  {
   "cell_type": "code",
   "execution_count": 5,
   "metadata": {},
   "outputs": [],
   "source": [
    "# Generate or load training data\n",
    "N = 51200\n",
    "\n",
    "if regenerate_data:\n",
    "    train_data_gen = bitmap.generate_train_set(N, 41, min_delta=1, max_delta=1)\n",
    "    deltas, start_boards, stop_boards = map(np.array, zip(*list(train_data_gen)))\n",
    "    # Save training data\n",
    "    np.save('../../data/training_start_boards', start_boards)\n",
    "    np.save('../../data/training_stop_boards', stop_boards)\n",
    "else:\n",
    "    start_boards = np.load('../../data/training_start_boards.npy')\n",
    "    stop_boards = np.load('../../data/training_stop_boards.npy')"
   ]
  },
  {
   "cell_type": "markdown",
   "metadata": {},
   "source": [
    "## Validation data"
   ]
  },
  {
   "cell_type": "code",
   "execution_count": 55,
   "metadata": {},
   "outputs": [],
   "source": [
    "# Generate or load validation data\n",
    "N_valid = 1280\n",
    "\n",
    "if regenerate_data:\n",
    "    valid_data_gen = bitmap.generate_train_set(N_valid, 1024, min_delta=1, max_delta=1)\n",
    "    deltas, valid_start_boards, valid_stop_boards = map(np.array, zip(*list(valid_data_gen)))\n",
    "    # Save validation data\n",
    "    np.save('../../data/valid_start_boards', valid_start_boards)\n",
    "    np.save('../../data/valid_stop_boards', valid_stop_boards)\n",
    "else:\n",
    "    valid_start_boards = np.load('../../data/valid_start_boards.npy')\n",
    "    valid_stop_boards = np.load('../../data/valid_stop_boards.npy')"
   ]
  },
  {
   "cell_type": "code",
   "execution_count": 56,
   "metadata": {},
   "outputs": [],
   "source": [
    "X_valid = Variable(torch.tensor(valid_start_boards).view(N_valid, 1, 25, 25).float())\n",
    "y_valid = Variable(torch.tensor(valid_stop_boards).view(N_valid, 1, 25, 25).float())"
   ]
  },
  {
   "cell_type": "markdown",
   "metadata": {},
   "source": [
    "## Test data"
   ]
  },
  {
   "cell_type": "code",
   "execution_count": 8,
   "metadata": {},
   "outputs": [],
   "source": [
    "# Generate or load test data\n",
    "N_test = 25600\n",
    "\n",
    "if regenerate_data:\n",
    "    test_data_gen = bitmap.generate_train_set(N, 42, min_delta=1, max_delta=1)\n",
    "    deltas, test_start_boards, test_stop_boards = map(np.array, zip(*list(test_data_gen)))\n",
    "    # Save test data\n",
    "    np.save('../../data/test_start_boards', test_start_boards)\n",
    "    np.save('../../data/test_stop_boards', test_stop_boards)\n",
    "else:\n",
    "    test_start_boards = np.load('../../data/test_start_boards.npy')\n",
    "    test_stop_boards = np.load('../../data/test_stop_boards.npy')"
   ]
  },
  {
   "cell_type": "markdown",
   "metadata": {},
   "source": [
    "# Model trainer"
   ]
  },
  {
   "cell_type": "code",
   "execution_count": 68,
   "metadata": {},
   "outputs": [],
   "source": [
    "def train(model, X, y, X_valid, y_valid, \n",
    "          optim, criterion, output_path, num_epochs=50, batch_size=128):\n",
    "    # Release CUDA memory\n",
    "    torch.cuda.empty_cache()\n",
    "\n",
    "    # Set optimizer\n",
    "    optimizer = optim(model.parameters())\n",
    "    \n",
    "    # Setup Tensorboard (https://pytorch.org/docs/stable/tensorboard.html)\n",
    "    writer = SummaryWriter()\n",
    "    writer.add_graph(model.cpu(), X)\n",
    "    model.cuda()\n",
    "\n",
    "    # Train\n",
    "    n_iter = 0\n",
    "    for epoch in range(num_epochs): \n",
    "        permutation = torch.randperm(X.size()[0])\n",
    "        running_loss = 0.0\n",
    "        pbar = tqdm(range(0, X.size()[0], batch_size))\n",
    "        for i in pbar:\n",
    "            n_iter += 1\n",
    "            indices = permutation[i:i+batch_size]\n",
    "            batch = X[indices].cuda()\n",
    "            target = y[indices].cuda()\n",
    "        \n",
    "            optimizer.zero_grad()\n",
    "            outputs = model(batch)\n",
    "            loss = criterion(outputs, target)\n",
    "            loss.backward()\n",
    "            optimizer.step()\n",
    "            pbar.set_description(\"[{:d}, {:5d}] loss: {:.8f}\".format(epoch + 1, i + 1, loss.item()))    \n",
    "            \n",
    "            # Calculate MAE\n",
    "            output_boards = (outputs > 0.5).int()\n",
    "            mae = torch.sum(output_boards != target) / (batch_size * 25 * 25)\n",
    "            \n",
    "            # Write data to Tensorboard\n",
    "            writer.add_scalar('Loss/train', loss.item(), n_iter)\n",
    "            writer.add_scalar('MAE/train', mae.item(), n_iter)\n",
    "            \n",
    "            # Write boards and validation results to Tensorboard every 50 batches\n",
    "            if n_iter % 50 == 0:\n",
    "                with torch.no_grad():\n",
    "                    model.eval()\n",
    "                    valid_loss = 0\n",
    "                    valid_mae = 0\n",
    "                    m = 0\n",
    "                    for j in range(0, X_valid.size()[0], batch_size):\n",
    "                        m += 1\n",
    "                        valid_batch = X_valid[j:j+batch_size].cuda()\n",
    "                        valid_target = y_valid[j:j+batch_size].cuda()\n",
    "                        valid_outputs = model(valid_batch)\n",
    "                        valid_loss += criterion(valid_outputs, valid_target)\n",
    "                        valid_boards = (valid_outputs > 0.5).int()\n",
    "                        valid_mae += torch.sum(valid_boards != valid_target).float()\n",
    "                    valid_loss /= m\n",
    "                    valid_mae /= (X_valid.size()[0] * 25 * 25)\n",
    "                    writer.add_image('predicted stop board', valid_boards[-1], n_iter)\n",
    "                    writer.add_image('actual stop board', y_valid[-1], n_iter)\n",
    "                    writer.add_scalar('Loss/valid', valid_loss.item(), n_iter)\n",
    "                    writer.add_scalar('MAE/valid', valid_mae.item(), n_iter)\n",
    "    writer.close()\n",
    "    # Save model state_dict\n",
    "    torch.save(model.state_dict(), output_path)"
   ]
  },
  {
   "cell_type": "markdown",
   "metadata": {},
   "source": [
    "# Train a forward network"
   ]
  },
  {
   "cell_type": "code",
   "execution_count": 37,
   "metadata": {},
   "outputs": [],
   "source": [
    "class ForwardNet(nn.Module):\n",
    "    def __init__(self):\n",
    "        super(ForwardNet, self).__init__()\n",
    "        # in channels, out channels, kernel size\n",
    "        self.conv1 = nn.Conv2d(1, 16, (3, 3), padding=(1, 1), padding_mode='circular')\n",
    "        self.activ1 = nn.ReLU()\n",
    "        self.conv2 = nn.Conv2d(16, 8, (3, 3), padding=(1, 1), padding_mode='circular')\n",
    "        self.activ2 = nn.PReLU()\n",
    "        self.conv3 = nn.Conv2d(8, 4, (3, 3), padding=(1, 1), padding_mode='circular')\n",
    "        self.activ3 = nn.PReLU()\n",
    "        self.conv4 = nn.Conv2d(4, 1, (3, 3), padding=(1, 1), padding_mode='circular')\n",
    "        \n",
    "    def forward(self, x):\n",
    "        x = self.activ1(self.conv1(x))\n",
    "        x = self.activ2(self.conv2(x))\n",
    "        x = self.activ3(self.conv3(x))\n",
    "        x = torch.sigmoid(self.conv4(x))\n",
    "        return x"
   ]
  },
  {
   "cell_type": "code",
   "execution_count": 38,
   "metadata": {},
   "outputs": [],
   "source": [
    "forward_net = ForwardNet()\n",
    "criterion = nn.BCELoss()"
   ]
  },
  {
   "cell_type": "code",
   "execution_count": 39,
   "metadata": {},
   "outputs": [],
   "source": [
    "X = Variable(torch.tensor(start_boards[:25600]).view(25600, 1, 25, 25).float(), requires_grad=True)\n",
    "y = Variable(torch.tensor(stop_boards[:25600]).view(25600, 1, 25, 25).float())"
   ]
  },
  {
   "cell_type": "code",
   "execution_count": 40,
   "metadata": {},
   "outputs": [],
   "source": [
    "vanilla_forward_model_path = \"../models/johnson/vanilla_forward.pkl\"\n",
    "# train(forward_net, X, y, X_valid, y_valid, optim.Adam, criterion, vanilla_forward_model_path, num_epochs=30)"
   ]
  },
  {
   "cell_type": "code",
   "execution_count": 41,
   "metadata": {},
   "outputs": [],
   "source": [
    "def get_forward_mae(model, weight_path, start_boards, stop_boards, n):\n",
    "    # Load model\n",
    "    model.load_state_dict(torch.load(weight_path))\n",
    "    # Convert boards to tensor\n",
    "    start_boards_tensor = torch.tensor(start_boards[:n]).view(n, 1, 25, 25).float()\n",
    "    stop_boards_tensor = torch.tensor(stop_boards[:n]).view(n, 1, 25, 25)\n",
    "    with torch.no_grad():\n",
    "        model.eval()\n",
    "        # Make prediction\n",
    "        predicted_stop_board = (model(start_boards_tensor) > 0.5).int()\n",
    "        error = torch.sum(predicted_stop_board != stop_boards_tensor)\n",
    "        # print(predicted_stop_board)\n",
    "        # print(stop_boards_tensor)\n",
    "        return error / (n * 25 * 25)"
   ]
  },
  {
   "cell_type": "code",
   "execution_count": 42,
   "metadata": {},
   "outputs": [
    {
     "name": "stdout",
     "output_type": "stream",
     "text": [
      "The training data MAE is 0.00000000.\n",
      "The test data MAE is 0.00000000.\n"
     ]
    }
   ],
   "source": [
    "# Training data MAE\n",
    "train_mae = get_forward_mae(forward_net, vanilla_forward_model_path, \n",
    "                            start_boards, stop_boards, 25600)\n",
    "print(\"The training data MAE is {:.8f}.\".format(train_mae))\n",
    "\n",
    "# Test data MAE\n",
    "test_mae = get_forward_mae(forward_net, vanilla_forward_model_path,\n",
    "                           test_start_boards, test_stop_boards, N_test)\n",
    "print(\"The test data MAE is {:.8f}.\".format(test_mae))"
   ]
  },
  {
   "cell_type": "markdown",
   "metadata": {},
   "source": [
    "# Relax starting boards"
   ]
  },
  {
   "cell_type": "code",
   "execution_count": 43,
   "metadata": {},
   "outputs": [],
   "source": [
    "# Modify starting boards \n",
    "def relax_boards(boards):\n",
    "    np.random.seed(41)\n",
    "    return np.abs(np.random.rand(*boards.shape) / 2 - boards)"
   ]
  },
  {
   "cell_type": "code",
   "execution_count": 44,
   "metadata": {},
   "outputs": [],
   "source": [
    "relaxed_start_boards = relax_boards(start_boards)"
   ]
  },
  {
   "cell_type": "code",
   "execution_count": 57,
   "metadata": {},
   "outputs": [],
   "source": [
    "class RelaxedForwardNet(nn.Module):\n",
    "    def __init__(self):\n",
    "        super(RelaxedForwardNet, self).__init__()\n",
    "        # in channels, out channels, kernel size\n",
    "        self.conv0 = nn.Conv2d(1, 8, (1, 1))\n",
    "        self.activ0 = nn.ReLU()\n",
    "        self.conv1 = nn.Conv2d(8, 16, (3, 3), padding=(1, 1), padding_mode='circular')\n",
    "        self.activ1 = nn.PReLU()\n",
    "        self.conv2 = nn.Conv2d(16, 8, (3, 3), padding=(1, 1), padding_mode='circular')\n",
    "        self.activ2 = nn.PReLU()\n",
    "        self.conv3 = nn.Conv2d(8, 4, (3, 3), padding=(1, 1), padding_mode='circular')\n",
    "        self.activ3 = nn.PReLU()\n",
    "        self.conv4 = nn.Conv2d(4, 1, (3, 3), padding=(1, 1), padding_mode='circular')\n",
    "        \n",
    "    def forward(self, x):\n",
    "        x = self.activ0(self.conv0(x))\n",
    "        x = self.activ1(self.conv1(x))\n",
    "        x = self.activ2(self.conv2(x))\n",
    "        x = self.activ3(self.conv3(x))\n",
    "        x = torch.sigmoid(self.conv4(x))\n",
    "        return x"
   ]
  },
  {
   "cell_type": "code",
   "execution_count": 58,
   "metadata": {},
   "outputs": [],
   "source": [
    "relaxed_forward_net = RelaxedForwardNet()\n",
    "criterion = nn.BCELoss()"
   ]
  },
  {
   "cell_type": "code",
   "execution_count": 59,
   "metadata": {},
   "outputs": [],
   "source": [
    "X_relaxed = Variable(torch.tensor(relaxed_start_boards).view(N, 1, 25, 25).float(), requires_grad=True)\n",
    "y = Variable(torch.tensor(stop_boards).view(N, 1, 25, 25).float())"
   ]
  },
  {
   "cell_type": "code",
   "execution_count": 60,
   "metadata": {},
   "outputs": [],
   "source": [
    "relaxed_valid_start_boards = relax_boards(valid_start_boards)\n",
    "X_valid_relaxed = Variable(torch.tensor(relaxed_valid_start_boards).view(N_valid, 1, 25, 25).float())"
   ]
  },
  {
   "cell_type": "code",
   "execution_count": null,
   "metadata": {
    "scrolled": true
   },
   "outputs": [
    {
     "name": "stderr",
     "output_type": "stream",
     "text": [
      "[1, 51073] loss: 0.19649281: 100%|██████████| 400/400 [00:21<00:00, 18.32it/s]\n",
      "[2, 51073] loss: 0.17430623: 100%|██████████| 400/400 [00:21<00:00, 18.19it/s]\n",
      "[3, 51073] loss: 0.08330236: 100%|██████████| 400/400 [00:22<00:00, 18.15it/s]\n",
      "[4, 51073] loss: 0.05094683: 100%|██████████| 400/400 [00:21<00:00, 18.38it/s]\n",
      "[5, 51073] loss: 0.03601890: 100%|██████████| 400/400 [00:21<00:00, 18.21it/s]\n",
      "[6, 51073] loss: 0.02516619: 100%|██████████| 400/400 [00:22<00:00, 18.08it/s]\n",
      "[7, 51073] loss: 0.02432352: 100%|██████████| 400/400 [00:22<00:00, 18.01it/s]\n",
      "[8, 51073] loss: 0.02047697: 100%|██████████| 400/400 [00:22<00:00, 17.92it/s]\n",
      "[9, 51073] loss: 0.02150188: 100%|██████████| 400/400 [00:22<00:00, 18.04it/s]\n",
      "[10,  2177] loss: 0.01652307:   4%|▍         | 18/400 [00:01<00:21, 17.77it/s]"
     ]
    }
   ],
   "source": [
    "relaxed_forward_model_path = \"../models/johnson/relaxed_forward.pkl\"\n",
    "train(relaxed_forward_net, X_relaxed, y, X_valid_relaxed, y_valid, optim.Adam, criterion, relaxed_forward_model_path, num_epochs=10)"
   ]
  },
  {
   "cell_type": "code",
   "execution_count": null,
   "metadata": {},
   "outputs": [],
   "source": [
    "# Training data MAE\n",
    "train_mae = get_forward_mae(relaxed_start_boards, stop_boards, N)\n",
    "print(\"The training data MAE is {:.6f}.\".format(train_mae))\n",
    "\n",
    "# Test data MAE\n",
    "relaxed_test_start_boards = relax_boards(test_start_boards)\n",
    "test_mae = get_forward_mae(relaxed_test_start_boards, test_stop_boards, N_test)\n",
    "print(\"The test data MAE is {:.6f}.\".format(test_mae))"
   ]
  },
  {
   "cell_type": "markdown",
   "metadata": {},
   "source": [
    "# Reverse model"
   ]
  },
  {
   "cell_type": "code",
   "execution_count": null,
   "metadata": {},
   "outputs": [],
   "source": [
    "class ReverseNet(nn.Module):\n",
    "    def __init__(self):\n",
    "        super(ReverseNet, self).__init__()\n",
    "        # in channels, out channels, kernel size\n",
    "        self.conv1 = nn.Conv2d(1, 16, (5, 5), padding=(2, 2), padding_mode='circular')\n",
    "        self.activ1 = nn.PReLU()\n",
    "        self.conv2 = nn.Conv2d(16, 8, (5, 5), padding=(2, 2), padding_mode='circular')\n",
    "        self.activ2 = nn.PReLU()\n",
    "        self.conv3 = nn.Conv2d(8, 4, (3, 3), padding=(1, 1), padding_mode='circular')\n",
    "        self.activ3 = nn.PReLU()\n",
    "        self.conv4 = nn.Conv2d(4, 1, (3, 3), padding=(1, 1), padding_mode='circular')\n",
    "\n",
    "    def forward(self, x):\n",
    "        x = self.reverse(x)\n",
    "        return x\n",
    "\n",
    "    def reverse(self, x):\n",
    "        x = self.activ1(self.conv1(x))\n",
    "        x = self.activ2(self.conv2(x))\n",
    "        x = self.activ3(self.conv3(x))\n",
    "        x = torch.sigmoid(self.conv4(x))\n",
    "        return x"
   ]
  },
  {
   "cell_type": "code",
   "execution_count": null,
   "metadata": {},
   "outputs": [],
   "source": [
    "net = ReverseNet()\n",
    "print(net)"
   ]
  },
  {
   "cell_type": "code",
   "execution_count": null,
   "metadata": {},
   "outputs": [],
   "source": [
    "criterion = nn.BCELoss()\n",
    "optimizer = optim.Adam(net.parameters()) #, lr=0.001, momentum=0.9)"
   ]
  },
  {
   "cell_type": "code",
   "execution_count": null,
   "metadata": {},
   "outputs": [],
   "source": [
    "X = Variable(torch.tensor(stop_boards).view(N, 1, 25, 25).float(), requires_grad=True)\n",
    "y = Variable(torch.tensor(start_boards).view(N, 1, 25, 25).float())\n",
    "num_epochs = 50\n",
    "batch_size = 128\n",
    "for epoch in tqdm(range(num_epochs)): \n",
    "    permutation = torch.randperm(X.size()[0])\n",
    "    running_loss = 0.0\n",
    "    for i in range(0, X.size()[0], batch_size):\n",
    "        indices = permutation[i:i+batch_size]\n",
    "        batch = X[indices]\n",
    "        target = y[indices]\n",
    "        \n",
    "        optimizer.zero_grad()\n",
    "        outputs = net(batch)\n",
    "        # loss = criterion(outputs, batch)\n",
    "        loss = criterion(outputs, target)\n",
    "        loss.backward()\n",
    "        optimizer.step()\n",
    "\n",
    "        running_loss += loss.item()\n",
    "        if i % 1000 == 0 and i > 0:\n",
    "            print('[%d, %5d] loss: %.3f' % (epoch + 1, i + 1, running_loss / 10))\n",
    "        running_loss = 0.0"
   ]
  },
  {
   "cell_type": "code",
   "execution_count": null,
   "metadata": {},
   "outputs": [],
   "source": [
    "# Generate testing data\n",
    "N_test = 25600\n",
    "# test_data_gen = bitmap.generate_test_set(N_test, 45, max_delta=1)\n",
    "test_data_gen = bitmap.generate_test_set(N_test, 45, min_delta=5, max_delta=5)\n",
    "delta, test_stop_boards = map(list, zip(*list(test_data_gen)))"
   ]
  },
  {
   "cell_type": "code",
   "execution_count": null,
   "metadata": {},
   "outputs": [],
   "source": [
    "def get_mae(stop_boards, n, delta=1):\n",
    "    stop_boards_tensor = torch.tensor(stop_boards).view(n, 1, 25, 25).float()\n",
    "    with torch.no_grad():\n",
    "        net.eval()\n",
    "        # Make prediction\n",
    "        output = (net(stop_boards_tensor) > 0.5).int()\n",
    "        # Evolve one step forward\n",
    "        predicted_stop_board = output\n",
    "        for _ in range(delta):\n",
    "            predicted_stop_board = (forward_model.forward(predicted_stop_board) > 0.5).int()\n",
    "        error = torch.sum(predicted_stop_board != stop_boards_tensor.int())\n",
    "        return error / (n * 25 * 25)"
   ]
  },
  {
   "cell_type": "code",
   "execution_count": null,
   "metadata": {},
   "outputs": [],
   "source": [
    "# Training data MAE\n",
    "train_mae = get_mae(stop_boards, N, 5).item()\n",
    "print(\"The training data MAE is {:.6f}.\".format(train_mae))\n",
    "\n",
    "# Test data MAE\n",
    "test_mae = get_mae(test_stop_boards, N_test, 5).item()\n",
    "print(\"The test data MAE is {:.6f}.\".format(test_mae))"
   ]
  },
  {
   "cell_type": "code",
   "execution_count": null,
   "metadata": {},
   "outputs": [],
   "source": [
    "# Test data MAE\n",
    "test_mae = get_mae(test_stop_boards, N_test, 5).item()\n",
    "print(\"The test data MAE is {:.6f}.\".format(test_mae))"
   ]
  },
  {
   "cell_type": "markdown",
   "metadata": {},
   "source": [
    "# Appendix: CUDA memory management"
   ]
  },
  {
   "cell_type": "code",
   "execution_count": null,
   "metadata": {},
   "outputs": [],
   "source": [
    "torch.cuda.memory_summary()"
   ]
  },
  {
   "cell_type": "code",
   "execution_count": null,
   "metadata": {},
   "outputs": [],
   "source": [
    "torch.cuda.memory_snapshot()"
   ]
  },
  {
   "cell_type": "code",
   "execution_count": null,
   "metadata": {},
   "outputs": [],
   "source": []
  }
 ],
 "metadata": {
  "kernelspec": {
   "display_name": "Python 3",
   "language": "python",
   "name": "python3"
  },
  "language_info": {
   "codemirror_mode": {
    "name": "ipython",
    "version": 3
   },
   "file_extension": ".py",
   "mimetype": "text/x-python",
   "name": "python",
   "nbconvert_exporter": "python",
   "pygments_lexer": "ipython3",
   "version": "3.6.6"
  }
 },
 "nbformat": 4,
 "nbformat_minor": 4
}
